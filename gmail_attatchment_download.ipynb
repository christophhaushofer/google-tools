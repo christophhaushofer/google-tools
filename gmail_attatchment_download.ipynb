{
 "cells": [
  {
   "cell_type": "markdown",
   "metadata": {},
   "source": [
    "## Attatchment management of e-mails in Gmail"
   ]
  },
  {
   "cell_type": "markdown",
   "metadata": {},
   "source": [
    "https://developers.google.com/gmail/api/quickstart/python"
   ]
  },
  {
   "cell_type": "code",
   "execution_count": null,
   "metadata": {},
   "outputs": [],
   "source": [
    "from __future__ import print_function\n",
    "import pickle\n",
    "import os.path\n",
    "from googleapiclient.discovery import build\n",
    "from google_auth_oauthlib.flow import InstalledAppFlow\n",
    "from google.auth.transport.requests import Request\n",
    "import base64\n",
    "import email\n",
    "from apiclient import errors\n",
    "import datetime"
   ]
  },
  {
   "cell_type": "code",
   "execution_count": null,
   "metadata": {},
   "outputs": [],
   "source": [
    "# If modifying these scopes, delete the file token.pickle.\n",
    "SCOPES = ['https://www.googleapis.com/auth/gmail.readonly']"
   ]
  },
  {
   "cell_type": "code",
   "execution_count": null,
   "metadata": {},
   "outputs": [],
   "source": [
    "store_dir = \"your/path/\"\n",
    "user_id=\"me\"\n",
    "query = \"from:someone@somewhere.org\""
   ]
  },
  {
   "cell_type": "code",
   "execution_count": null,
   "metadata": {},
   "outputs": [],
   "source": [
    "\"\"\"Shows basic usage of the Gmail API.\n",
    "Downloads attachments from specified e-mails.\n",
    "\"\"\"\n",
    "creds = None\n",
    "# The file token.pickle stores the user's access and refresh tokens, and is\n",
    "# created automatically when the authorization flow completes for the first\n",
    "# time.\n",
    "if os.path.exists('token.pickle'):\n",
    "    with open('token.pickle', 'rb') as token:\n",
    "        creds = pickle.load(token)\n",
    "# If there are no (valid) credentials available, let the user log in.\n",
    "if not creds or not creds.valid:\n",
    "    if creds and creds.expired and creds.refresh_token:\n",
    "        creds.refresh(Request())\n",
    "    else:\n",
    "        flow = InstalledAppFlow.from_client_secrets_file(\n",
    "            'credentials.json', SCOPES)\n",
    "        creds = flow.run_local_server()\n",
    "    # Save the credentials for the next run\n",
    "    with open('token.pickle', 'wb') as token:\n",
    "        pickle.dump(creds, token)\n",
    "\n",
    "service = build('gmail', 'v1', credentials=creds)\n",
    "\n",
    "try:\n",
    "    response = service.users().messages().list(userId=user_id,q=query).execute()\n",
    "    messages = []\n",
    "    if 'messages' in response:\n",
    "        messages.extend(response['messages'])\n",
    "\n",
    "    msg_ids = [messages[x][\"id\"] for x in range(len(messages))]\n",
    "\n",
    "    for msg_id in msg_ids:\n",
    "\n",
    "        message = service.users().messages().get(userId=user_id, id=msg_id, format=\"full\", metadataHeaders=None).execute()\n",
    "        headers=message[\"payload\"][\"headers\"]\n",
    "        subject= [i['value'] for i in headers if i[\"name\"]==\"Subject\"]\n",
    "        print(subject)\n",
    "        snippet = message['snippet']\n",
    "\n",
    "        for part in message['payload']['parts']:\n",
    "            if part['filename']:\n",
    "                if 'data' in part['body']:\n",
    "                    data=part['body']['data']\n",
    "                    filename_raw = part['filename']\n",
    "                else:\n",
    "                    att_id=part['body']['attachmentId']\n",
    "                    att=service.users().messages().attachments().get(userId=user_id, messageId=msg_id,id=att_id).execute()\n",
    "                    data=att['data']\n",
    "                    filename_raw = part['filename']\n",
    "                file_data = base64.urlsafe_b64decode(data.encode('UTF-8'))\n",
    "\n",
    "        # Datei Beschriftung\n",
    "        s = int(message[\"internalDate\"]) / 1000\n",
    "        inboxDate = datetime.datetime.fromtimestamp(s).strftime('%Y-%m-%d')\n",
    "        reciptFrom = query[query.find(\"@\")+1:query.find(\".\")]\n",
    "        filename = str(inboxDate + \"_\" + reciptFrom + \"_\" + filename_raw)\n",
    "\n",
    "        # Speicherpfad erstellen\n",
    "        if not os.path.exists(str(store_dir + \"/\" +  reciptFrom + \"/\")):\n",
    "            os.makedirs(str(store_dir + \"/\" +  reciptFrom + \"/\"))\n",
    "\n",
    "        save_path = str(store_dir + \"/\" +  reciptFrom + \"/\")\n",
    "        completeName = os.path.join(save_path , filename)\n",
    "\n",
    "        print(completeName)\n",
    "        with open(completeName, 'wb') as f:\n",
    "                    f.write(file_data)\n",
    "\n",
    "except errors.HttpError:\n",
    "    print('An error occurred: {}').format(errors)\n",
    "    next\n",
    "\n",
    "if not msg_ids:\n",
    "    print('No E-Mails found.')"
   ]
  }
 ],
 "metadata": {
  "kernelspec": {
   "display_name": "Python 3",
   "language": "python",
   "name": "python3"
  },
  "language_info": {
   "codemirror_mode": {
    "name": "ipython",
    "version": 3
   },
   "file_extension": ".py",
   "mimetype": "text/x-python",
   "name": "python",
   "nbconvert_exporter": "python",
   "pygments_lexer": "ipython3",
   "version": "3.7.0"
  }
 },
 "nbformat": 4,
 "nbformat_minor": 2
}
